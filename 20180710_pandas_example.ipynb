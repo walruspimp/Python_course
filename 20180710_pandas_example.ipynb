{
 "cells": [
  {
   "cell_type": "markdown",
   "metadata": {},
   "source": [
    "## Pandas Exercise\n",
    "10/07/2018  -  Jens Hahn, Ana Bulovic, Jorin Diemer\n",
    "\n",
    "Data file *my_yeast_genome.tsv* was downloaded from [**YeastMine**](yeastgenome.org)"
   ]
  },
  {
   "cell_type": "markdown",
   "metadata": {},
   "source": [
    "## Assignments\n",
    "1. What are the dimensions (rows, columns) of the data?\n",
    "2. How does the data look like?\n",
    "3. Set the header of the table.\n",
    "4. Are duplicates in the data?\n",
    "5. What is the average mRNA length?\n",
    "6. How many adenines are in the coding part of the genome?\n",
    "7. Are there missing sequences in the data?\n",
    "8. Plot the mRNA lengths."
   ]
  },
  {
   "cell_type": "code",
   "execution_count": 1,
   "metadata": {},
   "outputs": [],
   "source": [
    "# import packages pandas and matplotlib\n",
    "import pandas as pd \n",
    "import matplotlib.pyplot as plt \n",
    "%matplotlib inline"
   ]
  },
  {
   "cell_type": "code",
   "execution_count": 2,
   "metadata": {},
   "outputs": [],
   "source": [
    "# create DataFrame object from tsv file\n",
    "df = pd.read_csv('./my_yeast_genome.tsv', sep='\\t', header=None)"
   ]
  },
  {
   "cell_type": "markdown",
   "metadata": {},
   "source": [
    "1 Dimensions of the data"
   ]
  },
  {
   "cell_type": "code",
   "execution_count": 3,
   "metadata": {},
   "outputs": [
    {
     "name": "stdout",
     "output_type": "stream",
     "text": [
      "(17902, 9)\n",
      "The data has 17902 rows and 9 columns\n"
     ]
    }
   ],
   "source": [
    "# check the dimensions of the data\n",
    "print(df.shape)\n",
    "print('The data has {} rows and {} columns'.format(df.shape[0],\n",
    "                                                   df.shape[1]))"
   ]
  },
  {
   "cell_type": "markdown",
   "metadata": {},
   "source": [
    "2 How does the data look like"
   ]
  },
  {
   "cell_type": "code",
   "execution_count": 4,
   "metadata": {},
   "outputs": [
    {
     "data": {
      "text/html": [
       "<div>\n",
       "<style scoped>\n",
       "    .dataframe tbody tr th:only-of-type {\n",
       "        vertical-align: middle;\n",
       "    }\n",
       "\n",
       "    .dataframe tbody tr th {\n",
       "        vertical-align: top;\n",
       "    }\n",
       "\n",
       "    .dataframe thead th {\n",
       "        text-align: right;\n",
       "    }\n",
       "</style>\n",
       "<table border=\"1\" class=\"dataframe\">\n",
       "  <thead>\n",
       "    <tr style=\"text-align: right;\">\n",
       "      <th></th>\n",
       "      <th>0</th>\n",
       "      <th>1</th>\n",
       "      <th>2</th>\n",
       "      <th>3</th>\n",
       "      <th>4</th>\n",
       "      <th>5</th>\n",
       "      <th>6</th>\n",
       "      <th>7</th>\n",
       "      <th>8</th>\n",
       "    </tr>\n",
       "  </thead>\n",
       "  <tbody>\n",
       "    <tr>\n",
       "      <th>0</th>\n",
       "      <td>S. cerevisiae</td>\n",
       "      <td>S000000003</td>\n",
       "      <td>YAL003W</td>\n",
       "      <td>EFB1</td>\n",
       "      <td>Elongation Factor Beta</td>\n",
       "      <td>ATGGCATCCACCGATTTCTCCAAGATTGAAACTTTGAAACAATTAA...</td>\n",
       "      <td>1027</td>\n",
       "      <td>AATGGCATCCACCGATTTCTCCAAGATTGAAACTTTGAAACAATTA...</td>\n",
       "      <td>987</td>\n",
       "    </tr>\n",
       "    <tr>\n",
       "      <th>1</th>\n",
       "      <td>S. cerevisiae</td>\n",
       "      <td>S000000003</td>\n",
       "      <td>YAL003W</td>\n",
       "      <td>EFB1</td>\n",
       "      <td>Elongation Factor Beta</td>\n",
       "      <td>ATGGCATCCACCGATTTCTCCAAGATTGAAACTTTGAAACAATTAA...</td>\n",
       "      <td>1033</td>\n",
       "      <td>ACACATAATGGCATCCACCGATTTCTCCAAGATTGAAACTTTGAAA...</td>\n",
       "      <td>987</td>\n",
       "    </tr>\n",
       "    <tr>\n",
       "      <th>2</th>\n",
       "      <td>S. cerevisiae</td>\n",
       "      <td>S000000003</td>\n",
       "      <td>YAL003W</td>\n",
       "      <td>EFB1</td>\n",
       "      <td>Elongation Factor Beta</td>\n",
       "      <td>ATGGCATCCACCGATTTCTCCAAGATTGAAACTTTGAAACAATTAA...</td>\n",
       "      <td>1039</td>\n",
       "      <td>ATATACACACATAATGGCATCCACCGATTTCTCCAAGATTGAAACT...</td>\n",
       "      <td>987</td>\n",
       "    </tr>\n",
       "    <tr>\n",
       "      <th>3</th>\n",
       "      <td>S. cerevisiae</td>\n",
       "      <td>S000000003</td>\n",
       "      <td>YAL003W</td>\n",
       "      <td>EFB1</td>\n",
       "      <td>Elongation Factor Beta</td>\n",
       "      <td>ATGGCATCCACCGATTTCTCCAAGATTGAAACTTTGAAACAATTAA...</td>\n",
       "      <td>1045</td>\n",
       "      <td>ATATACACACATAATGGCATCCACCGATTTCTCCAAGATTGAAACT...</td>\n",
       "      <td>987</td>\n",
       "    </tr>\n",
       "    <tr>\n",
       "      <th>4</th>\n",
       "      <td>S. cerevisiae</td>\n",
       "      <td>S000000003</td>\n",
       "      <td>YAL003W</td>\n",
       "      <td>EFB1</td>\n",
       "      <td>Elongation Factor Beta</td>\n",
       "      <td>ATGGCATCCACCGATTTCTCCAAGATTGAAACTTTGAAACAATTAA...</td>\n",
       "      <td>1047</td>\n",
       "      <td>AACCGAATATATACACACATAATGGCATCCACCGATTTCTCCAAGA...</td>\n",
       "      <td>987</td>\n",
       "    </tr>\n",
       "  </tbody>\n",
       "</table>\n",
       "</div>"
      ],
      "text/plain": [
       "               0           1        2     3                       4  \\\n",
       "0  S. cerevisiae  S000000003  YAL003W  EFB1  Elongation Factor Beta   \n",
       "1  S. cerevisiae  S000000003  YAL003W  EFB1  Elongation Factor Beta   \n",
       "2  S. cerevisiae  S000000003  YAL003W  EFB1  Elongation Factor Beta   \n",
       "3  S. cerevisiae  S000000003  YAL003W  EFB1  Elongation Factor Beta   \n",
       "4  S. cerevisiae  S000000003  YAL003W  EFB1  Elongation Factor Beta   \n",
       "\n",
       "                                                   5     6  \\\n",
       "0  ATGGCATCCACCGATTTCTCCAAGATTGAAACTTTGAAACAATTAA...  1027   \n",
       "1  ATGGCATCCACCGATTTCTCCAAGATTGAAACTTTGAAACAATTAA...  1033   \n",
       "2  ATGGCATCCACCGATTTCTCCAAGATTGAAACTTTGAAACAATTAA...  1039   \n",
       "3  ATGGCATCCACCGATTTCTCCAAGATTGAAACTTTGAAACAATTAA...  1045   \n",
       "4  ATGGCATCCACCGATTTCTCCAAGATTGAAACTTTGAAACAATTAA...  1047   \n",
       "\n",
       "                                                   7    8  \n",
       "0  AATGGCATCCACCGATTTCTCCAAGATTGAAACTTTGAAACAATTA...  987  \n",
       "1  ACACATAATGGCATCCACCGATTTCTCCAAGATTGAAACTTTGAAA...  987  \n",
       "2  ATATACACACATAATGGCATCCACCGATTTCTCCAAGATTGAAACT...  987  \n",
       "3  ATATACACACATAATGGCATCCACCGATTTCTCCAAGATTGAAACT...  987  \n",
       "4  AACCGAATATATACACACATAATGGCATCCACCGATTTCTCCAAGA...  987  "
      ]
     },
     "execution_count": 4,
     "metadata": {},
     "output_type": "execute_result"
    }
   ],
   "source": [
    "# have a look on the first 5 rows of the table\n",
    "df.head()"
   ]
  },
  {
   "cell_type": "markdown",
   "metadata": {},
   "source": [
    "3 Set column headers"
   ]
  },
  {
   "cell_type": "code",
   "execution_count": 5,
   "metadata": {},
   "outputs": [
    {
     "data": {
      "text/html": [
       "<div>\n",
       "<style scoped>\n",
       "    .dataframe tbody tr th:only-of-type {\n",
       "        vertical-align: middle;\n",
       "    }\n",
       "\n",
       "    .dataframe tbody tr th {\n",
       "        vertical-align: top;\n",
       "    }\n",
       "\n",
       "    .dataframe thead th {\n",
       "        text-align: right;\n",
       "    }\n",
       "</style>\n",
       "<table border=\"1\" class=\"dataframe\">\n",
       "  <thead>\n",
       "    <tr style=\"text-align: right;\">\n",
       "      <th></th>\n",
       "      <th>organism</th>\n",
       "      <th>id</th>\n",
       "      <th>systematic</th>\n",
       "      <th>standard</th>\n",
       "      <th>function</th>\n",
       "      <th>sequence</th>\n",
       "      <th>gen length</th>\n",
       "      <th>seq mRNA</th>\n",
       "      <th>mRNA length</th>\n",
       "    </tr>\n",
       "  </thead>\n",
       "  <tbody>\n",
       "    <tr>\n",
       "      <th>0</th>\n",
       "      <td>S. cerevisiae</td>\n",
       "      <td>S000000003</td>\n",
       "      <td>YAL003W</td>\n",
       "      <td>EFB1</td>\n",
       "      <td>Elongation Factor Beta</td>\n",
       "      <td>ATGGCATCCACCGATTTCTCCAAGATTGAAACTTTGAAACAATTAA...</td>\n",
       "      <td>1027</td>\n",
       "      <td>AATGGCATCCACCGATTTCTCCAAGATTGAAACTTTGAAACAATTA...</td>\n",
       "      <td>987</td>\n",
       "    </tr>\n",
       "    <tr>\n",
       "      <th>1</th>\n",
       "      <td>S. cerevisiae</td>\n",
       "      <td>S000000003</td>\n",
       "      <td>YAL003W</td>\n",
       "      <td>EFB1</td>\n",
       "      <td>Elongation Factor Beta</td>\n",
       "      <td>ATGGCATCCACCGATTTCTCCAAGATTGAAACTTTGAAACAATTAA...</td>\n",
       "      <td>1033</td>\n",
       "      <td>ACACATAATGGCATCCACCGATTTCTCCAAGATTGAAACTTTGAAA...</td>\n",
       "      <td>987</td>\n",
       "    </tr>\n",
       "    <tr>\n",
       "      <th>2</th>\n",
       "      <td>S. cerevisiae</td>\n",
       "      <td>S000000003</td>\n",
       "      <td>YAL003W</td>\n",
       "      <td>EFB1</td>\n",
       "      <td>Elongation Factor Beta</td>\n",
       "      <td>ATGGCATCCACCGATTTCTCCAAGATTGAAACTTTGAAACAATTAA...</td>\n",
       "      <td>1039</td>\n",
       "      <td>ATATACACACATAATGGCATCCACCGATTTCTCCAAGATTGAAACT...</td>\n",
       "      <td>987</td>\n",
       "    </tr>\n",
       "    <tr>\n",
       "      <th>3</th>\n",
       "      <td>S. cerevisiae</td>\n",
       "      <td>S000000003</td>\n",
       "      <td>YAL003W</td>\n",
       "      <td>EFB1</td>\n",
       "      <td>Elongation Factor Beta</td>\n",
       "      <td>ATGGCATCCACCGATTTCTCCAAGATTGAAACTTTGAAACAATTAA...</td>\n",
       "      <td>1045</td>\n",
       "      <td>ATATACACACATAATGGCATCCACCGATTTCTCCAAGATTGAAACT...</td>\n",
       "      <td>987</td>\n",
       "    </tr>\n",
       "    <tr>\n",
       "      <th>4</th>\n",
       "      <td>S. cerevisiae</td>\n",
       "      <td>S000000003</td>\n",
       "      <td>YAL003W</td>\n",
       "      <td>EFB1</td>\n",
       "      <td>Elongation Factor Beta</td>\n",
       "      <td>ATGGCATCCACCGATTTCTCCAAGATTGAAACTTTGAAACAATTAA...</td>\n",
       "      <td>1047</td>\n",
       "      <td>AACCGAATATATACACACATAATGGCATCCACCGATTTCTCCAAGA...</td>\n",
       "      <td>987</td>\n",
       "    </tr>\n",
       "  </tbody>\n",
       "</table>\n",
       "</div>"
      ],
      "text/plain": [
       "        organism          id systematic standard                function  \\\n",
       "0  S. cerevisiae  S000000003    YAL003W     EFB1  Elongation Factor Beta   \n",
       "1  S. cerevisiae  S000000003    YAL003W     EFB1  Elongation Factor Beta   \n",
       "2  S. cerevisiae  S000000003    YAL003W     EFB1  Elongation Factor Beta   \n",
       "3  S. cerevisiae  S000000003    YAL003W     EFB1  Elongation Factor Beta   \n",
       "4  S. cerevisiae  S000000003    YAL003W     EFB1  Elongation Factor Beta   \n",
       "\n",
       "                                            sequence  gen length  \\\n",
       "0  ATGGCATCCACCGATTTCTCCAAGATTGAAACTTTGAAACAATTAA...        1027   \n",
       "1  ATGGCATCCACCGATTTCTCCAAGATTGAAACTTTGAAACAATTAA...        1033   \n",
       "2  ATGGCATCCACCGATTTCTCCAAGATTGAAACTTTGAAACAATTAA...        1039   \n",
       "3  ATGGCATCCACCGATTTCTCCAAGATTGAAACTTTGAAACAATTAA...        1045   \n",
       "4  ATGGCATCCACCGATTTCTCCAAGATTGAAACTTTGAAACAATTAA...        1047   \n",
       "\n",
       "                                            seq mRNA  mRNA length  \n",
       "0  AATGGCATCCACCGATTTCTCCAAGATTGAAACTTTGAAACAATTA...          987  \n",
       "1  ACACATAATGGCATCCACCGATTTCTCCAAGATTGAAACTTTGAAA...          987  \n",
       "2  ATATACACACATAATGGCATCCACCGATTTCTCCAAGATTGAAACT...          987  \n",
       "3  ATATACACACATAATGGCATCCACCGATTTCTCCAAGATTGAAACT...          987  \n",
       "4  AACCGAATATATACACACATAATGGCATCCACCGATTTCTCCAAGA...          987  "
      ]
     },
     "execution_count": 5,
     "metadata": {},
     "output_type": "execute_result"
    }
   ],
   "source": [
    "df.columns = ['organism', 'id', 'systematic', 'standard',\n",
    "             'function', 'sequence', 'gen length', 'seq mRNA',\n",
    "             'mRNA length']\n",
    "df.head()"
   ]
  },
  {
   "cell_type": "markdown",
   "metadata": {},
   "source": [
    "#### 4 Duplicates    \n",
    "*Yeast has about 6600 genes, the tables has over 17000 rows. There have to be duplicates*    \n",
    "   a) How many rows contain the first gene?    \n",
    "   b) Are these rows just replicates?    "
   ]
  },
  {
   "cell_type": "code",
   "execution_count": 11,
   "metadata": {},
   "outputs": [
    {
     "name": "stdout",
     "output_type": "stream",
     "text": [
      "The first gene is 39 times in the table.\n"
     ]
    }
   ],
   "source": [
    "first_gene_entries = df[df['systematic'] == 'YAL003W'].shape[0]\n",
    "print(\"The first gene is {} times in the table.\".format(first_gene_entries))"
   ]
  },
  {
   "cell_type": "code",
   "execution_count": 16,
   "metadata": {},
   "outputs": [
    {
     "name": "stdout",
     "output_type": "stream",
     "text": [
      "organism        True\n",
      "id              True\n",
      "systematic      True\n",
      "standard        True\n",
      "function        True\n",
      "sequence        True\n",
      "gen length     False\n",
      "seq mRNA       False\n",
      "mRNA length     True\n",
      "dtype: bool\n"
     ]
    }
   ],
   "source": [
    "print(df.iloc[0] == df.iloc[1])"
   ]
  },
  {
   "cell_type": "markdown",
   "metadata": {},
   "source": [
    "5 average mRNA length"
   ]
  },
  {
   "cell_type": "code",
   "execution_count": 20,
   "metadata": {},
   "outputs": [
    {
     "name": "stdout",
     "output_type": "stream",
     "text": [
      "The average mRNA length is 819.6249022455592\n"
     ]
    }
   ],
   "source": [
    "print(\"The average mRNA length is {}\".format(\n",
    "      df['mRNA length'].mean()))"
   ]
  },
  {
   "cell_type": "markdown",
   "metadata": {},
   "source": [
    "#### 6 How many adenines\n",
    "a) Remove duplicated gene entries    \n",
    "b) Calculate abundance of As    "
   ]
  },
  {
   "cell_type": "code",
   "execution_count": 21,
   "metadata": {},
   "outputs": [],
   "source": [
    "# make a new DataFrame with only the gene id columns\n",
    "# remove duplicates here\n",
    "df_clean = df[['systematic', 'standard', 'id']]\n",
    "df_clean = df_clean.drop_duplicates()"
   ]
  },
  {
   "cell_type": "code",
   "execution_count": 22,
   "metadata": {},
   "outputs": [],
   "source": [
    "# use the indexes from the smaller table for calculation\n",
    "from collections import Counter\n",
    "a = 0\n",
    "\n",
    "for index in df_clean.index:\n",
    "    seq = df.iloc[index, 5]\n",
    "    c = Counter(seq)\n",
    "    a += c['A']"
   ]
  },
  {
   "cell_type": "code",
   "execution_count": 26,
   "metadata": {},
   "outputs": [
    {
     "name": "stdout",
     "output_type": "stream",
     "text": [
      "The coding part of the genome contains about 1099826 adenine\n"
     ]
    }
   ],
   "source": [
    "print(\"The coding part of the genome contains \\\n",
    "about {} adenine\".format(a))"
   ]
  },
  {
   "cell_type": "markdown",
   "metadata": {},
   "source": [
    "7 Missing sequences"
   ]
  },
  {
   "cell_type": "code",
   "execution_count": 27,
   "metadata": {},
   "outputs": [
    {
     "name": "stdout",
     "output_type": "stream",
     "text": [
      "Table contains 0 missing sequences\n"
     ]
    }
   ],
   "source": [
    "# taken from Kai\n",
    "no_sequence = 0\n",
    "\n",
    "for length in df['mRNA length']:\n",
    "    if type(length) != int or length == 0:\n",
    "        no_sequence += 1\n",
    "        \n",
    "print('Table contains {} missing sequences'.format(no_sequence))"
   ]
  },
  {
   "cell_type": "markdown",
   "metadata": {},
   "source": [
    "8 Plot mRNA lengths"
   ]
  },
  {
   "cell_type": "code",
   "execution_count": 42,
   "metadata": {},
   "outputs": [
    {
     "data": {
      "image/png": "[encoded data removed]",
      "text/plain": [
       "<Figure size 1800x720 with 1 Axes>"
      ]
     },
     "metadata": {},
     "output_type": "display_data"
    }
   ],
   "source": [
    "fig = plt.figure(figsize=(25,10))\n",
    "ax = fig.add_subplot(111)\n",
    "ax.hist(df['mRNA length'], 100)\n",
    "ax.set_title('mRNA length', fontsize=25)\n",
    "ax.set_xlabel('mRNA length [#]', fontsize=20)\n",
    "ax.set_ylabel('abundance [#]', fontsize=20)\n",
    "ax.tick_params('both', labelsize=15)\n",
    "ax.set_xlim(0);"
   ]
  }
 ],
 "metadata": {
  "kernelspec": {
   "display_name": "Python 3",
   "language": "python",
   "name": "python3"
  },
  "language_info": {
   "codemirror_mode": {
    "name": "ipython",
    "version": 3
   },
   "file_extension": ".py",
   "mimetype": "text/x-python",
   "name": "python",
   "nbconvert_exporter": "python",
   "pygments_lexer": "ipython3",
   "version": "3.6.5"
  }
 },
 "nbformat": 4,
 "nbformat_minor": 2
}
